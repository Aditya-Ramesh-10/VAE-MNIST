{
 "cells": [
  {
   "cell_type": "code",
   "execution_count": 1,
   "metadata": {},
   "outputs": [],
   "source": [
    "import numpy as np\n",
    "import tensorflow as tf\n",
    "import matplotlib.pyplot as plt\n",
    "%matplotlib inline"
   ]
  },
  {
   "cell_type": "code",
   "execution_count": 2,
   "metadata": {},
   "outputs": [],
   "source": [
    "# Load MNIST data, preprocessing involves flattening and rescaling range from 0-1\n",
    "\n",
    "(x_train, y_train), (x_test, y_test) = tf.keras.datasets.mnist.load_data()\n",
    "\n",
    "def preprocess_data(x_train, x_test):\n",
    "    \n",
    "    x_train_p = x_train / 255.0\n",
    "    x_test_p = x_test / 255.0\n",
    "    \n",
    "    sxtrain = np.shape(x_train_p)\n",
    "    sxtest = np.shape(x_test_p)\n",
    "    x_train_p = np.reshape(x_train_p, newshape=(sxtrain[0], np.prod(sxtrain[1:])))\n",
    "    x_test_p = np.reshape(x_test_p, newshape=(sxtest[0], np.prod(sxtest[1:])))\n",
    "                          \n",
    "    return x_train_p, x_test_p\n",
    "\n",
    "training_dataset, validation_dataset = preprocess_data(x_train, x_test)"
   ]
  },
  {
   "cell_type": "code",
   "execution_count": null,
   "metadata": {},
   "outputs": [],
   "source": []
  },
  {
   "cell_type": "code",
   "execution_count": 3,
   "metadata": {},
   "outputs": [],
   "source": [
    "class Vae:\n",
    "    \n",
    "    def loss_function(self):\n",
    "        \n",
    "        # KL-divergence between 2 multivariate gaussians\n",
    "        KL_term = -1*tf.reduce_sum((self.log_sigma_2_z - tf.pow(self.mu_z,2) - tf.exp(self.log_sigma_2_z) + 1)/2, \n",
    "                                axis = -1)\n",
    "        \n",
    "        # Reconstruction loss - Since our output at each pixel is Bernaoulli, we use the binary cross-entropy loss \n",
    "        recon_term = -1*tf.reduce_sum(self.X * tf.log(self.X_decoder_op + self.eps) + (1-self.X) * tf.log(1-self.X_decoder_op + self.eps), \n",
    "                                   axis = -1)\n",
    "        \n",
    "        batch_loss = tf.reduce_mean(KL_term + recon_term)\n",
    "        \n",
    "        return batch_loss\n",
    "    \n",
    "    def sample_from_Q(self):\n",
    "        \n",
    "        epsilon = tf.random_normal(shape = tf.shape(self.mu_z), mean = 0.0, stddev=1.0)\n",
    "        \n",
    "        # Reparametrization\n",
    "        samps = self.mu_z + tf.sqrt(tf.exp(self.log_sigma_2_z)) * epsilon\n",
    "             \n",
    "        return samps\n",
    "        \n",
    "    \n",
    "    def __init__(self, im_pixels, encoder_dims, latent_dim, decoder_dims, gamma, learning_rate):\n",
    "        \n",
    "        self.X = tf.placeholder(tf.float32, shape = [None] + [im_pixels], name = 'X')\n",
    "        self.enc_units = encoder_dims\n",
    "        self.dec_units = decoder_dims\n",
    "        self.gamma = gamma\n",
    "        self.learning_rate = learning_rate\n",
    "        self.eps = 1e-16 # For numerical stability on log operation\n",
    "        \n",
    "        #encoder\n",
    "        \n",
    "        W = tf.Variable(tf.truncated_normal(shape=(im_pixels, self.enc_units[0]), stddev=0.1),\n",
    "                                            name='Weight_enc_0')\n",
    "        b = tf.Variable(tf.zeros(shape=(self.enc_units[0])), name='bias_enc_0')\n",
    "        \n",
    "        self.encoding_op = tf.nn.relu(tf.matmul(self.X, W) + b)\n",
    "        \n",
    "        for i in range(1, len(self.enc_units)):\n",
    "            \n",
    "            W = tf.Variable(tf.truncated_normal(shape=(self.enc_units[i-1], self.enc_units[i]), stddev=0.1),\n",
    "                                            name='Weight_enc_{0}'.format(i))\n",
    "            b = tf.Variable(tf.zeros(shape=(self.enc_units[i])), name='bias_enc_{0}'.format(i))\n",
    "            \n",
    "            self.encoding_op = tf.nn.relu(tf.matmul(self.encoding_op, W) + b)\n",
    "            \n",
    "        W = tf.Variable(tf.truncated_normal(shape=(self.enc_units[-1], 2*latent_dim), stddev=0.1),\n",
    "                                            name='Weight_enc_last')\n",
    "        b = tf.Variable(tf.zeros(shape=(2*latent_dim)), name='bias_enc_last')\n",
    "        \n",
    "        self.encoding_op = tf.matmul(self.encoding_op, W) + b\n",
    "            \n",
    "        \n",
    "        # Sample epsilon from N(0,I) to indirectly sample from Q(z|x) - Reparametrization trick\n",
    "        \n",
    "        self.mu_z = self.encoding_op[:,:latent_dim]\n",
    "        self.log_sigma_2_z = self.encoding_op[:,latent_dim:]\n",
    "        \n",
    "        self.Z = self.sample_from_Q()\n",
    "        \n",
    "        W = tf.Variable(tf.truncated_normal(shape=(latent_dim, self.dec_units[0]), stddev=0.1),\n",
    "                                            name='Weight_dec_0')\n",
    "        b = tf.Variable(tf.zeros(shape=(self.dec_units[0])), name='bias_dec_0')\n",
    "        \n",
    "        self.decoding_op = tf.nn.relu(tf.matmul(self.Z, W) + b)\n",
    "        \n",
    "        for j in range(1, len(self.dec_units)):\n",
    "            W = tf.Variable(tf.truncated_normal(shape=(self.dec_units[j-1], self.dec_units[j]), stddev=0.1),\n",
    "                                            name='Weight_dec_{0}'.format(j))\n",
    "            b = tf.Variable(tf.zeros(shape=(self.dec_units[j])), name='bias_dec_{0}'.format(j))\n",
    "            \n",
    "            self.decoding_op = tf.nn.relu(tf.matmul(self.decoding_op, W) + b)\n",
    "            \n",
    "        W = tf.Variable(tf.truncated_normal(shape=(self.dec_units[-1], im_pixels), stddev=0.1),\n",
    "                                            name='Weight_dec_last')\n",
    "        b = tf.Variable(tf.zeros(shape=(im_pixels)), name='bias_dec_last')\n",
    "        \n",
    "        self.X_decoder_op = tf.nn.sigmoid(tf.matmul(self.decoding_op, W) + b)\n",
    "        \n",
    "        self.reg_loss = sum(tf.nn.l2_loss(tf_var)\n",
    "                for tf_var in tf.trainable_variables()\n",
    "                if not (\"bias\" in tf_var.name))\n",
    "        \n",
    "        self.loss = self.loss_function()\n",
    "        self.loss = self.loss + self.gamma*self.reg_loss\n",
    "        \n",
    "        optimizer = tf.train.AdamOptimizer(self.learning_rate)\n",
    "        \n",
    "        self.train_step = optimizer.minimize(self.loss)\n",
    "        \n",
    "        self.session = tf.Session()\n",
    "        self.session.run(tf.global_variables_initializer())\n",
    " "
   ]
  },
  {
   "cell_type": "code",
   "execution_count": null,
   "metadata": {},
   "outputs": [],
   "source": []
  },
  {
   "cell_type": "code",
   "execution_count": 4,
   "metadata": {},
   "outputs": [
    {
     "name": "stdout",
     "output_type": "stream",
     "text": [
      "WARNING:tensorflow:From /Users/adityaramesh/anaconda3/envs/misty/lib/python3.5/site-packages/tensorflow/python/data/ops/dataset_ops.py:1419: colocate_with (from tensorflow.python.framework.ops) is deprecated and will be removed in a future version.\n",
      "Instructions for updating:\n",
      "Colocations handled automatically by placer.\n"
     ]
    }
   ],
   "source": [
    "#Create pipeline for dataset\n",
    "\n",
    "dataset_train = tf.data.Dataset.from_tensor_slices(training_dataset)\n",
    "batch_size = tf.placeholder(tf.int64)\n",
    "\n",
    "dataset_train = dataset_train.shuffle(buffer_size=len(training_dataset[0])).batch \\\n",
    "                                    (batch_size = batch_size).repeat()\n",
    "iterator_train = dataset_train.make_initializable_iterator()\n",
    "next_batch_train = iterator_train.get_next()"
   ]
  },
  {
   "cell_type": "code",
   "execution_count": 5,
   "metadata": {},
   "outputs": [],
   "source": [
    "bsize = 256\n",
    "im_pixels = training_dataset.shape[-1]\n",
    "encoder_dims = [512, 256, 128]\n",
    "decoder_dims = encoder_dims[::-1]\n",
    "\n",
    "latent_dim = 4\n",
    "\n",
    "learning_rate = 0.0007\n",
    "gamma = 0.001\n",
    "\n",
    "n_steps = 5000\n",
    "val_interval = 50"
   ]
  },
  {
   "cell_type": "code",
   "execution_count": 6,
   "metadata": {},
   "outputs": [],
   "source": [
    "sess = tf.Session()\n",
    "sess.run(iterator_train.initializer, feed_dict = {batch_size: bsize})"
   ]
  },
  {
   "cell_type": "code",
   "execution_count": 7,
   "metadata": {},
   "outputs": [
    {
     "name": "stdout",
     "output_type": "stream",
     "text": [
      "WARNING:tensorflow:From /Users/adityaramesh/anaconda3/envs/misty/lib/python3.5/site-packages/tensorflow/python/ops/math_ops.py:3066: to_int32 (from tensorflow.python.ops.math_ops) is deprecated and will be removed in a future version.\n",
      "Instructions for updating:\n",
      "Use tf.cast instead.\n"
     ]
    }
   ],
   "source": [
    "mnist_vae = Vae(im_pixels, encoder_dims, latent_dim, decoder_dims, gamma, learning_rate)"
   ]
  },
  {
   "cell_type": "code",
   "execution_count": 8,
   "metadata": {},
   "outputs": [
    {
     "name": "stdout",
     "output_type": "stream",
     "text": [
      "Iter \t Train_Loss \t Val_Loss\n",
      "0 \t 556.162 \t 545.580\n",
      "50 \t 214.073 \t 208.896\n",
      "100 \t 188.752 \t 190.643\n",
      "150 \t 167.928 \t 171.589\n",
      "200 \t 162.481 \t 162.427\n",
      "250 \t 159.453 \t 156.404\n",
      "300 \t 151.350 \t 152.776\n",
      "350 \t 152.925 \t 149.676\n",
      "400 \t 148.234 \t 148.110\n",
      "450 \t 146.624 \t 146.386\n",
      "500 \t 151.358 \t 145.978\n",
      "550 \t 138.586 \t 143.991\n",
      "600 \t 142.935 \t 142.838\n",
      "650 \t 143.912 \t 142.312\n",
      "700 \t 143.131 \t 141.188\n",
      "750 \t 140.960 \t 140.248\n",
      "800 \t 136.757 \t 139.640\n",
      "850 \t 137.653 \t 139.254\n",
      "900 \t 138.529 \t 139.252\n",
      "950 \t 132.191 \t 138.302\n",
      "1000 \t 134.952 \t 138.151\n",
      "1050 \t 141.322 \t 137.155\n",
      "1100 \t 137.791 \t 136.649\n",
      "1150 \t 135.481 \t 136.971\n",
      "1200 \t 134.497 \t 136.589\n",
      "1250 \t 133.786 \t 135.821\n",
      "1300 \t 135.267 \t 135.749\n",
      "1350 \t 137.659 \t 135.564\n",
      "1400 \t 135.416 \t 135.577\n",
      "1450 \t 132.080 \t 134.778\n",
      "1500 \t 135.048 \t 134.797\n",
      "1550 \t 138.169 \t 134.567\n",
      "1600 \t 139.545 \t 134.252\n",
      "1650 \t 132.769 \t 134.051\n",
      "1700 \t 137.308 \t 133.825\n",
      "1750 \t 136.265 \t 133.694\n",
      "1800 \t 137.213 \t 133.263\n",
      "1850 \t 137.727 \t 133.259\n",
      "1900 \t 132.397 \t 132.844\n",
      "1950 \t 135.160 \t 132.732\n",
      "2000 \t 136.059 \t 132.869\n",
      "2050 \t 131.137 \t 132.431\n",
      "2100 \t 127.874 \t 132.261\n",
      "2150 \t 134.216 \t 132.264\n",
      "2200 \t 135.238 \t 131.930\n",
      "2250 \t 133.274 \t 131.697\n",
      "2300 \t 133.003 \t 131.944\n",
      "2350 \t 124.349 \t 132.055\n",
      "2400 \t 131.273 \t 132.060\n",
      "2450 \t 125.771 \t 130.984\n",
      "2500 \t 129.897 \t 131.006\n",
      "2550 \t 131.857 \t 130.884\n",
      "2600 \t 129.495 \t 131.048\n",
      "2650 \t 137.327 \t 130.967\n",
      "2700 \t 130.158 \t 130.530\n",
      "2750 \t 124.338 \t 130.452\n",
      "2800 \t 128.461 \t 130.384\n",
      "2850 \t 131.602 \t 130.646\n",
      "2900 \t 129.368 \t 130.410\n",
      "2950 \t 125.006 \t 130.140\n",
      "3000 \t 128.754 \t 130.310\n",
      "3050 \t 132.335 \t 130.570\n",
      "3100 \t 128.406 \t 130.050\n",
      "3150 \t 122.363 \t 129.688\n",
      "3200 \t 133.771 \t 129.614\n",
      "3250 \t 129.667 \t 129.600\n",
      "3300 \t 125.927 \t 129.562\n",
      "3350 \t 128.178 \t 129.700\n",
      "3400 \t 127.815 \t 129.435\n",
      "3450 \t 128.784 \t 129.150\n",
      "3500 \t 123.717 \t 129.485\n",
      "3550 \t 123.042 \t 129.586\n",
      "3600 \t 127.091 \t 128.976\n",
      "3650 \t 130.275 \t 129.014\n",
      "3700 \t 130.138 \t 128.766\n",
      "3750 \t 128.084 \t 128.784\n",
      "3800 \t 125.075 \t 128.676\n",
      "3850 \t 134.580 \t 128.513\n",
      "3900 \t 128.077 \t 128.574\n",
      "3950 \t 133.157 \t 128.489\n",
      "4000 \t 124.087 \t 128.309\n",
      "4050 \t 127.136 \t 128.511\n",
      "4100 \t 130.408 \t 128.107\n",
      "4150 \t 132.614 \t 127.860\n",
      "4200 \t 123.601 \t 128.009\n",
      "4250 \t 125.746 \t 127.783\n",
      "4300 \t 128.474 \t 127.977\n",
      "4350 \t 125.947 \t 127.740\n",
      "4400 \t 126.189 \t 127.531\n",
      "4450 \t 123.979 \t 127.596\n",
      "4500 \t 126.853 \t 127.714\n",
      "4550 \t 126.981 \t 127.561\n",
      "4600 \t 121.648 \t 127.296\n",
      "4650 \t 127.963 \t 127.404\n",
      "4700 \t 119.389 \t 127.589\n",
      "4750 \t 125.602 \t 127.769\n",
      "4800 \t 120.151 \t 127.108\n",
      "4850 \t 121.874 \t 127.003\n",
      "4900 \t 129.631 \t 127.044\n",
      "4950 \t 122.307 \t 127.050\n"
     ]
    }
   ],
   "source": [
    "train_loss_list = []\n",
    "print(\"Iter \\t Train_Loss \\t Val_Loss\")\n",
    "for t in range(n_steps):\n",
    "    train_batch = sess.run(next_batch_train)\n",
    "    feed_dict = {mnist_vae.X : train_batch}\n",
    "    train_loss, _ = mnist_vae.session.run([mnist_vae.loss, mnist_vae.train_step], feed_dict=feed_dict)\n",
    "    train_loss_list.append(train_loss)\n",
    "\n",
    "    if t % val_interval == 0:\n",
    "            val_dict = {mnist_vae.X: validation_dataset}\n",
    "            val_loss = mnist_vae.session.run(mnist_vae.loss, feed_dict=val_dict)\n",
    "            \n",
    "            print(\"{0} \\t {1:.3f} \\t {2:.3f}\".format(t,train_loss,val_loss))"
   ]
  },
  {
   "cell_type": "code",
   "execution_count": null,
   "metadata": {},
   "outputs": [],
   "source": []
  },
  {
   "cell_type": "code",
   "execution_count": 9,
   "metadata": {},
   "outputs": [],
   "source": [
    "# Hallucinate samples, sample from the prior and feed in the latent variable through feed_dict.\n",
    "\n",
    "imshape = x_train.shape[-1]\n",
    "n_samples = 10\n",
    "prior_samples = np.random.normal(size = (n_samples, latent_dim))\n",
    "f_dict = {mnist_vae.Z : prior_samples}\n",
    "hal = mnist_vae.session.run(mnist_vae.X_decoder_op, feed_dict = f_dict)\n",
    "\n",
    "hal_images = np.reshape(hal, (n_samples, imshape, imshape))\n"
   ]
  },
  {
   "cell_type": "code",
   "execution_count": null,
   "metadata": {},
   "outputs": [],
   "source": []
  },
  {
   "cell_type": "code",
   "execution_count": 10,
   "metadata": {},
   "outputs": [
    {
     "data": {
      "image/png": "[encoded data removed]",
      "text/plain": [
       "<Figure size 1152x648 with 10 Axes>"
      ]
     },
     "metadata": {
      "needs_background": "light"
     },
     "output_type": "display_data"
    }
   ],
   "source": [
    "plt.figure(figsize=(16,9))\n",
    "for i in range(1, 11):\n",
    "    plt.subplot(2, 5, i)\n",
    "    plt.imshow(hal_images[i-1], cmap='gray', vmin=0.0, vmax=1.0)\n",
    "\n"
   ]
  },
  {
   "cell_type": "code",
   "execution_count": null,
   "metadata": {},
   "outputs": [],
   "source": []
  }
 ],
 "metadata": {
  "kernelspec": {
   "display_name": "Python 3",
   "language": "python",
   "name": "python3"
  },
  "language_info": {
   "codemirror_mode": {
    "name": "ipython",
    "version": 3
   },
   "file_extension": ".py",
   "mimetype": "text/x-python",
   "name": "python",
   "nbconvert_exporter": "python",
   "pygments_lexer": "ipython3",
   "version": "3.5.6"
  }
 },
 "nbformat": 4,
 "nbformat_minor": 2
}
